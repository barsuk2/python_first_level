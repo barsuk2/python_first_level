{
 "cells": [
  {
   "cell_type": "markdown",
   "metadata": {
    "collapsed": true,
    "pycharm": {
     "name": "#%% md\n"
    }
   },
   "source": [
    "## Полезные функции\n",
    "Функция sum"
   ]
  },
  {
   "cell_type": "code",
   "execution_count": null,
   "outputs": [],
   "source": [
    "d3 = []\n",
    "d = [2,3,4]\n",
    "d1= [3,4,5]\n",
    "t1 = ['qwqwe', 'asdasd']\n",
    "t = 'asd'\n",
    "tt = 'adasd'\n",
    "d3.append(d)\n",
    "d3.append(d1)\n",
    "print(d3)\n",
    "print('конкатенация', sum(d3, []))\n",
    "print(f'd3 {d3}')\n",
    "print(sum(d3))"
   ],
   "metadata": {
    "collapsed": false,
    "pycharm": {
     "name": "#%%\n",
     "is_executing": true
    }
   }
  },
  {
   "cell_type": "markdown",
   "source": [
    "filter, map"
   ],
   "metadata": {
    "collapsed": false,
    "pycharm": {
     "name": "#%% md\n"
    }
   }
  },
  {
   "cell_type": "code",
   "execution_count": null,
   "outputs": [],
   "source": [
    "d3 = [2, 3, 4, 3, 4, 5]\n",
    "print(list(filter(lambda x: x > 3 and x < 5, d3))) # отфильтровывает последовательность по функции\n",
    "\n",
    "t9 = 'роза упала на лапу азора'\n",
    "list(filter(lambda x: x != 'роза',t9.split())) # отфильтровывает последовательность по функции"
   ],
   "metadata": {
    "collapsed": false,
    "pycharm": {
     "name": "#%%\n",
     "is_executing": true
    }
   }
  },
  {
   "cell_type": "markdown",
   "source": [
    "divmode"
   ],
   "metadata": {
    "collapsed": false,
    "pycharm": {
     "name": "#%% md\n"
    }
   }
  },
  {
   "cell_type": "code",
   "execution_count": null,
   "outputs": [],
   "source": [
    "a,b = divmod(9,4) # возвращает остаток от деления и частное\n",
    "print(a ,b)"
   ],
   "metadata": {
    "collapsed": false,
    "pycharm": {
     "name": "#%%\n",
     "is_executing": true
    }
   }
  },
  {
   "cell_type": "markdown",
   "source": [
    "## время работы скрипта"
   ],
   "metadata": {
    "collapsed": false,
    "pycharm": {
     "name": "#%% md\n"
    }
   }
  },
  {
   "cell_type": "markdown",
   "source": [
    "время выполнение ячейки"
   ],
   "metadata": {
    "collapsed": false,
    "pycharm": {
     "name": "#%% md\n"
    }
   }
  },
  {
   "cell_type": "code",
   "execution_count": null,
   "outputs": [],
   "source": [
    "%%timeit\n",
    "for _ in range(10**5):\n",
    "    30**5"
   ],
   "metadata": {
    "collapsed": false,
    "pycharm": {
     "name": "#%%\n",
     "is_executing": true
    }
   }
  },
  {
   "cell_type": "markdown",
   "source": [
    "модуль time"
   ],
   "metadata": {
    "collapsed": false,
    "pycharm": {
     "name": "#%% md\n"
    }
   }
  },
  {
   "cell_type": "markdown",
   "source": [
    "время выполнения кода"
   ],
   "metadata": {
    "collapsed": false,
    "pycharm": {
     "name": "#%% md\n"
    }
   }
  },
  {
   "cell_type": "code",
   "execution_count": null,
   "outputs": [],
   "source": [
    "import time\n",
    "start = time.perf_counter()\n",
    "for _ in range(10**5):\n",
    "    30**5\n",
    "time.perf_counter() - start"
   ],
   "metadata": {
    "collapsed": false,
    "pycharm": {
     "name": "#%%\n",
     "is_executing": true
    }
   }
  },
  {
   "cell_type": "markdown",
   "source": [
    "задержка выполнение кода"
   ],
   "metadata": {
    "collapsed": false,
    "pycharm": {
     "name": "#%% md\n"
    }
   }
  },
  {
   "cell_type": "code",
   "execution_count": null,
   "outputs": [],
   "source": [
    "for i in range(10**10):\n",
    "    print(i)\n",
    "    time.sleep(1)\n",
    "\n"
   ],
   "metadata": {
    "collapsed": false,
    "pycharm": {
     "name": "#%%\n",
     "is_executing": true
    }
   }
  },
  {
   "cell_type": "markdown",
   "source": [
    "модуль timeit"
   ],
   "metadata": {
    "collapsed": false
   }
  },
  {
   "cell_type": "code",
   "source": [
    "import timeit"
   ],
   "metadata": {
    "collapsed": false,
    "pycharm": {
     "name": "#%%\n",
     "is_executing": true
    }
   },
   "execution_count": null,
   "outputs": []
  },
  {
   "cell_type": "markdown",
   "source": [
    "случайное float число из  заданного диапазона"
   ],
   "metadata": {
    "collapsed": false,
    "pycharm": {
     "name": "#%% md\n"
    }
   }
  },
  {
   "cell_type": "code",
   "execution_count": null,
   "outputs": [],
   "source": [
    "import random\n",
    "min_number = -1\n",
    "max_number = -11\n",
    "min_number+(max_number-min_number)*random.random()"
   ],
   "metadata": {
    "collapsed": false,
    "pycharm": {
     "name": "#%%\n",
     "is_executing": true
    }
   }
  },
  {
   "cell_type": "markdown",
   "source": [
    "## reduce\n",
    "функция reduce сводит значениея последовательность к одному\n",
    "на основе функции"
   ],
   "metadata": {
    "collapsed": false
   }
  },
  {
   "cell_type": "code",
   "source": [
    "import functools\n",
    "import random\n",
    "dir(functools)\n",
    "\n",
    "a = [random.randint(1,10) for _ in range(100) if random.randint(1,10) % 2 == 1]\n",
    "print(a)\n",
    "a = functools.reduce(lambda x, y: x/y, a)\n",
    "a"
   ],
   "metadata": {
    "collapsed": false,
    "pycharm": {
     "name": "#%%\n",
     "is_executing": true
    }
   },
   "execution_count": null,
   "outputs": []
  },
  {
   "cell_type": "markdown",
   "source": [
    "Модуль itertools - комбинаторика\n",
    "https://pythonworld.ru/moduli/modul-itertools.html\n",
    "https://proglib.io/p/iteriruemsya-pravilno-20-priemov-ispolzovaniya-v-python-modulya-itertools-2020-01-03"
   ],
   "metadata": {
    "collapsed": false,
    "pycharm": {
     "name": "#%% md\n"
    }
   }
  },
  {
   "cell_type": "code",
   "execution_count": null,
   "outputs": [],
   "source": [
    "'генерация бесконечной арифмет прогрессии'\n",
    "import itertools as it\n",
    "import time\n",
    "for num in it.count(7,3):\n",
    "    print(num)\n",
    "    time.sleep(1)"
   ],
   "metadata": {
    "collapsed": false,
    "pycharm": {
     "name": "#%%\n",
     "is_executing": true
    }
   }
  },
  {
   "cell_type": "code",
   "execution_count": null,
   "outputs": [],
   "source": [
    "' бесконечной генерация значений из последовательности'\n",
    "import itertools as it\n",
    "import time\n",
    "for num in it.cycle('qweasdzxc'):\n",
    "    print(num)\n",
    "    time.sleep(1)"
   ],
   "metadata": {
    "collapsed": false,
    "pycharm": {
     "name": "#%%\n",
     "is_executing": true
    }
   }
  },
  {
   "cell_type": "code",
   "execution_count": null,
   "outputs": [],
   "source": [
    "' бесконечной генерация значений из последовательности'\n",
    "import itertools as it\n",
    "import time\n",
    "for num in it.repeat(2,10):\n",
    "    print(num)\n",
    "    time.sleep(1)"
   ],
   "metadata": {
    "collapsed": false,
    "pycharm": {
     "name": "#%%\n",
     "is_executing": true
    }
   }
  },
  {
   "cell_type": "code",
   "execution_count": null,
   "outputs": [
    {
     "name": "stdout",
     "output_type": "stream",
     "text": [
      "7\n",
      "17\n",
      "30\n",
      "46\n",
      "65\n",
      "87\n",
      "112\n",
      "140\n",
      "171\n",
      "205\n",
      "242\n",
      "282\n",
      "325\n",
      "371\n",
      "420\n",
      "472\n",
      "527\n",
      "585\n"
     ]
    }
   ],
   "source": [
    "' бесконечной генерация значений из последовательности'\n",
    "import itertools as it\n",
    "import time\n",
    "for num in it.accumulate(it.count(7,3)):\n",
    "    print(num)\n",
    "    time.sleep(1)"
   ],
   "metadata": {
    "collapsed": false,
    "pycharm": {
     "name": "#%%\n",
     "is_executing": true
    }
   }
  },
  {
   "cell_type": "code",
   "execution_count": null,
   "outputs": [
    {
     "name": "stdout",
     "output_type": "stream",
     "text": [
      "7\n",
      "10\n",
      "13\n",
      "16\n",
      "19\n",
      "22\n",
      "25\n",
      "28\n",
      "31\n",
      "34\n",
      "37\n",
      "40\n",
      "43\n"
     ]
    }
   ],
   "source": [
    "' бесконечной генерация значений из последовательности'\n",
    "import itertools as it\n",
    "import time\n",
    "for num in it.chain(it.count(7,3),it.cycle('qweasdzxc'),it.repeat(2,10)):\n",
    "    print(num)\n",
    "    time.sleep(1)"
   ],
   "metadata": {
    "collapsed": false,
    "pycharm": {
     "name": "#%%\n",
     "is_executing": true
    }
   }
  },
  {
   "cell_type": "code",
   "execution_count": 3,
   "outputs": [
    {
     "name": "stdout",
     "output_type": "stream",
     "text": [
      "('белый', 'жёлтый', 'синий')\n",
      "('белый', 'жёлтый', 'красный')\n",
      "('белый', 'синий', 'красный')\n",
      "('жёлтый', 'синий', 'красный')\n"
     ]
    }
   ],
   "source": [
    "import itertools as it\n",
    "colors = ['белый', 'жёлтый', 'синий', 'красный']\n",
    "for item in it.combinations(colors, 3):\n",
    "    print(item)\n",
    "\n"
   ],
   "metadata": {
    "collapsed": false,
    "pycharm": {
     "name": "#%%\n"
    }
   }
  },
  {
   "cell_type": "code",
   "execution_count": 34,
   "outputs": [
    {
     "name": "stdout",
     "output_type": "stream",
     "text": [
      "[('В', '♤'), ('В', '♥'), ('В', '♦'), ('В', '♧'), ('Д', '♤'), ('Д', '♥'), ('Д', '♦'), ('Д', '♧'), ('К', '♤'), ('К', '♥'), ('К', '♦'), ('К', '♧'), ('Т', '♤'), ('Т', '♥'), ('Т', '♦'), ('Т', '♧')]\n",
      "16\n"
     ]
    },
    {
     "data": {
      "text/plain": "['2♤',\n '2♥',\n '2♦',\n '2♧',\n '3♤',\n '3♥',\n '3♦',\n '3♧',\n '4♤',\n '4♥',\n '4♦',\n '4♧',\n '5♤',\n '5♥',\n '5♦',\n '5♧',\n '6♤',\n '6♥',\n '6♦',\n '6♧',\n '7♤',\n '7♥',\n '7♦',\n '7♧',\n '8♤',\n '8♥',\n '8♦',\n '8♧',\n '9♤',\n '9♥',\n '9♦',\n '9♧',\n '10♤',\n '10♥',\n '10♦',\n '10♧',\n 'В♤',\n 'В♥',\n 'В♦',\n 'В♧',\n 'Д♤',\n 'Д♥',\n 'Д♦',\n 'Д♧',\n 'К♤',\n 'К♥',\n 'К♦',\n 'К♧',\n 'Т♤',\n 'Т♥',\n 'Т♦',\n 'Т♧']"
     },
     "execution_count": 34,
     "metadata": {},
     "output_type": "execute_result"
    }
   ],
   "source": [
    "num_cards = [str(i) for i in range(2, 11)]\n",
    "face_cards  = ['В', 'Д', 'К', 'Т']\n",
    "mast= [chr(el)for el in range(9828,9832)]\n",
    "mast_face = list(it.product(face_cards,mast))\n",
    "print(mast_face)\n",
    "f=  [f'{f}{m}' for f, m in mast_face]\n",
    "print(len(f))\n",
    "mast = list(it.product(num_cards,mast))\n",
    "d=  [f'{f}{m}' for f, m in mast]\n",
    "set = list(it.chain(d,f))\n",
    "set\n",
    "\n",
    "\n",
    "# list(it.chain(num_cards, face_cards))\n",
    "\n",
    "\n",
    "\n",
    "\n"
   ],
   "metadata": {
    "collapsed": false,
    "pycharm": {
     "name": "#%%\n"
    }
   }
  },
  {
   "cell_type": "code",
   "execution_count": 60,
   "outputs": [
    {
     "name": "stdout",
     "output_type": "stream",
     "text": [
      "[('Q', 'a'), ('Q', 's'), ('Q', 'd'), ('Q', 'f'), ('W', 'a'), ('W', 's'), ('W', 'd'), ('W', 'f'), ('E', 'a'), ('E', 's'), ('E', 'd'), ('E', 'f'), ('R', 'a'), ('R', 's'), ('R', 'd'), ('R', 'f')]\n",
      "{'Ea', 'Ed', 'Ra', 'Wa', 'Qa', 'Qf', 'Ws', 'Wf', 'Qs', 'Es', 'Ef', 'Rd', 'Rf', 'Qd', 'Wd', 'Rs'}\n",
      "<itertools.product object at 0x0000000006F1A9D8>\n"
     ]
    }
   ],
   "source": [
    "import itertools as it\n",
    "print(list(it.product('QWER','asdf')))\n",
    "print({f'{a}{b}' for a, b in list(it.product('QWER', 'asdf'))})\n",
    "print((str(it.product('QWER', 'asdf'))))\n",
    "\n",
    "\n"
   ],
   "metadata": {
    "collapsed": false,
    "pycharm": {
     "name": "#%%\n"
    }
   }
  },
  {
   "cell_type": "code",
   "execution_count": 63,
   "outputs": [
    {
     "data": {
      "text/plain": "['25', '32', '103']"
     },
     "execution_count": 63,
     "metadata": {},
     "output_type": "execute_result"
    }
   ],
   "source": [
    "import itertools as it\n",
    "list(it.starmap(lambda x,y: f'{x}{y}', [(2,5), (3,2), (10,3)]))\n",
    "\n"
   ],
   "metadata": {
    "collapsed": false,
    "pycharm": {
     "name": "#%%\n"
    }
   }
  },
  {
   "cell_type": "code",
   "execution_count": 65,
   "outputs": [
    {
     "data": {
      "text/plain": "{'A♤': 11,\n 'A♥': 11,\n 'A♦': 11,\n 'A♧': 11,\n 'K♤': 10,\n 'K♥': 10,\n 'K♦': 10,\n 'K♧': 10,\n 'Q♤': 10,\n 'Q♥': 10,\n 'Q♦': 10,\n 'Q♧': 10,\n 'J♤': 10,\n 'J♥': 10,\n 'J♦': 10,\n 'J♧': 10,\n '10♤': 10,\n '10♥': 10,\n '10♦': 10,\n '10♧': 10,\n '9♤': 9,\n '9♥': 9,\n '9♦': 9,\n '9♧': 9,\n '8♤': 8,\n '8♥': 8,\n '8♦': 8,\n '8♧': 8,\n '7♤': 7,\n '7♥': 7,\n '7♦': 7,\n '7♧': 7,\n '6♤': 6,\n '6♥': 6,\n '6♦': 6,\n '6♧': 6,\n '5♤': 5,\n '5♥': 5,\n '5♦': 5,\n '5♧': 5,\n '4♤': 4,\n '4♥': 4,\n '4♦': 4,\n '4♧': 4,\n '3♤': 3,\n '3♥': 3,\n '3♦': 3,\n '3♧': 3,\n '2♤': 2,\n '2♥': 2,\n '2♦': 2,\n '2♧': 2}"
     },
     "execution_count": 65,
     "metadata": {},
     "output_type": "execute_result"
    }
   ],
   "source": [
    "' В этом модуле мы создаем колоду карт'\n",
    "# print (chr(9829))\n",
    "kartinki=['A','K','Q','J']\n",
    "kaloda_kartinki_znach=dict(zip(kartinki,[11,10,10,10]))\n",
    "mast=[chr(x) for x in range(9828,9832)]\n",
    "kaloda_kartinki=[x+y for x in kartinki for y in mast]\n",
    "# znach_dlya_kartinok=[11,10,10,10]\n",
    "\n",
    "mast_kart= [y+chr(x) for x in range(9828,9832) for y in kartinki ]\n",
    "shval={str(x): x  for x in range(10,1,-1)}\n",
    "shval_mast=[str(x)+y  for x in range(10,1,-1) for y in  mast ]\n",
    "\n",
    "shval_mast_znach={(key+y):value for key,value in shval.items() for y in mast}\n",
    "koloda_polnaya={(key+y):value for key,value in kaloda_kartinki_znach.items() for y in mast}\n",
    "koloda_polnaya.update(shval_mast_znach)\n",
    "koloda_polnaya\n",
    "\n"
   ],
   "metadata": {
    "collapsed": false,
    "pycharm": {
     "name": "#%%\n"
    }
   }
  }
 ],
 "metadata": {
  "kernelspec": {
   "display_name": "Python 3",
   "language": "python",
   "name": "python3"
  },
  "language_info": {
   "codemirror_mode": {
    "name": "ipython",
    "version": 2
   },
   "file_extension": ".py",
   "mimetype": "text/x-python",
   "name": "python",
   "nbconvert_exporter": "python",
   "pygments_lexer": "ipython2",
   "version": "2.7.6"
  }
 },
 "nbformat": 4,
 "nbformat_minor": 0
}